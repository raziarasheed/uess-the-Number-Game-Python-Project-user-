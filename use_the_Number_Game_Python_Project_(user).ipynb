{
  "nbformat": 4,
  "nbformat_minor": 0,
  "metadata": {
    "colab": {
      "provenance": [],
      "authorship_tag": "ABX9TyN9Lf6+/ROonRB3lX6ON6ep",
      "include_colab_link": true
    },
    "kernelspec": {
      "name": "python3",
      "display_name": "Python 3"
    },
    "language_info": {
      "name": "python"
    }
  },
  "cells": [
    {
      "cell_type": "markdown",
      "metadata": {
        "id": "view-in-github",
        "colab_type": "text"
      },
      "source": [
        "<a href=\"https://colab.research.google.com/github/raziarasheed/uess-the-Number-Game-Python-Project-user-/blob/main/use_the_Number_Game_Python_Project_(user).ipynb\" target=\"_parent\"><img src=\"https://colab.research.google.com/assets/colab-badge.svg\" alt=\"Open In Colab\"/></a>"
      ]
    },
    {
      "cell_type": "code",
      "execution_count": 1,
      "metadata": {
        "colab": {
          "base_uri": "https://localhost:8080/"
        },
        "id": "k41NmXOz_RCP",
        "outputId": "ec13f20d-e7a6-4bc2-c39d-eea59bc55bc2"
      },
      "outputs": [
        {
          "output_type": "stream",
          "name": "stdout",
          "text": [
            "I have a secret number between 1 to 10. Can you guess it?\n",
            "Enter your guess: 4\n",
            "Congratulations! You have guessed the number!\n"
          ]
        }
      ],
      "source": [
        "\n",
        "import random\n",
        "\n",
        "secret_number = random.randint(1, 10)\n",
        "print(\"I have a secret number between 1 to 10. Can you guess it?\")\n",
        "\n",
        "while True:\n",
        "    try:\n",
        "        guess = int(input(\"Enter your guess: \"))\n",
        "        if guess < 1 or guess > 10:\n",
        "            print(\"Please enter a number between 1 and 10.\")\n",
        "            continue\n",
        "        if guess > secret_number:\n",
        "            print(\"Too high! Try again.\")\n",
        "        elif guess < secret_number:\n",
        "            print(\"Too low! Try again.\")\n",
        "        else:\n",
        "            print(\"Congratulations! You have guessed the number!\")\n",
        "            break\n",
        "    except ValueError:\n",
        "        print(\"Invalid input. Please enter a number between 1 to 10.\")"
      ]
    }
  ]
}